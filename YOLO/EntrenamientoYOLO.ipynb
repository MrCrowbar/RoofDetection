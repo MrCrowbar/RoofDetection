{
  "nbformat": 4,
  "nbformat_minor": 0,
  "metadata": {
    "colab": {
      "name": "EntrenamientoYOLO.ipynb",
      "provenance": []
    },
    "kernelspec": {
      "name": "python3",
      "display_name": "Python 3"
    }
  },
  "cells": [
    {
      "cell_type": "code",
      "metadata": {
        "id": "cVXAkBEnCiJo"
      },
      "source": [
        "# Comenzar entrenamiento\n",
        "!./darknet detector train data/obj.data cfg/yolov4-obj.cfg yolov4.conv.137 -dont_show"
      ],
      "execution_count": null,
      "outputs": []
    },
    {
      "cell_type": "code",
      "metadata": {
        "id": "aJse4u3RCwph"
      },
      "source": [
        "# descomentar para que imprima el resultado del entrenamiento\n",
        "# imShow('chart.png')"
      ],
      "execution_count": null,
      "outputs": []
    },
    {
      "cell_type": "code",
      "metadata": {
        "id": "UVRnpCDpC7j3"
      },
      "source": [
        "# Para reanudar un entrenamiento a partir de un peso en específico, actualizar ruta a donde se encuentre el .weights\n",
        "# !./darknet detector train data/obj.data cfg/yolov4-obj.cfg /mydrive/yolov4/backup/yolov4-obj_last.weights -dont_show"
      ],
      "execution_count": null,
      "outputs": []
    },
    {
      "cell_type": "code",
      "metadata": {
        "id": "L_xdWLR-C8cC"
      },
      "source": [
        "# Obtener métricas de desempeño por cada clase entrenada\n",
        "#!./darknet detector map data/obj.data cfg/yolov4-obj.cfg /mydrive/yolov4/backup/yolov4-obj_last.weights"
      ],
      "execution_count": null,
      "outputs": []
    }
  ]
}