{
  "nbformat": 4,
  "nbformat_minor": 0,
  "metadata": {
    "colab": {
      "name": "InferenciasYOLO.ipynb",
      "provenance": []
    },
    "kernelspec": {
      "name": "python3",
      "display_name": "Python 3"
    }
  },
  "cells": [
    {
      "cell_type": "code",
      "metadata": {
        "id": "iGJKOD07mWck"
      },
      "source": [
        "def imShow(path):\n",
        "  import cv2\n",
        "  import matplotlib.pyplot as plt\n",
        "  %matplotlib inline\n",
        "\n",
        "  image = cv2.imread(path)\n",
        "  height, width = image.shape[:2]\n",
        "  resized_image = cv2.resize(image,(3*width, 3*height), interpolation = cv2.INTER_CUBIC)\n",
        "\n",
        "  fig = plt.gcf()\n",
        "  fig.set_size_inches(18, 10)\n",
        "  plt.axis(\"off\")\n",
        "  plt.imshow(cv2.cvtColor(resized_image, cv2.COLOR_BGR2RGB))\n",
        "  plt.show()"
      ],
      "execution_count": null,
      "outputs": []
    },
    {
      "cell_type": "code",
      "metadata": {
        "id": "ogrtBDXGCbRA"
      },
      "source": [
        "#!python generate_train.py\n",
        "!python generate_test.py\n",
        "'''\n",
        "Dentro de la carpeta de 'darknet/data/' deberían de existir los archivos de 'train.txt' y 'test.txt'\n",
        "'''"
      ],
      "execution_count": null,
      "outputs": []
    },
    {
      "cell_type": "code",
      "metadata": {
        "id": "Y9OojdV_DAmS"
      },
      "source": [
        "# cambiar la configuración a modo de pruebas\n",
        "%cd cfg\n",
        "!sed -i 's/batch=64/batch=1/' yolov4-obj.cfg\n",
        "!sed -i 's/subdivisions=16/subdivisions=1/' yolov4-obj.cfg\n",
        "%cd .."
      ],
      "execution_count": null,
      "outputs": []
    },
    {
      "cell_type": "code",
      "metadata": {
        "id": "JMfmpiMHDBIB"
      },
      "source": [
        "# Para correr inferencias sobre solo 1 imagen\n",
        "# La prier ruta debe ser adaptada a donde se encuentre el archivo .weights que se desee usar\n",
        "# La segunda ruta debe ser de la imagen a procesar\n",
        "# -thresh define el mínimo porcentaje de confianza que deben tener las inferencias\n",
        "\n",
        "!./darknet detector test data/obj.data cfg/yolov4-obj.cfg /mydrive/yolov4/backup/yolov4-obj_last.weights /content/2020-06-24_11-50-01.JPG -thresh 0.5\n",
        "imShow('predictions.jpg')"
      ],
      "execution_count": null,
      "outputs": []
    },
    {
      "cell_type": "code",
      "metadata": {
        "id": "cEOz3F4TN1NY"
      },
      "source": [
        "#Para correr múltiples inferencias en imágenes que están dentro de una misma carpeta\n",
        "\n",
        "import os\n",
        "\n",
        "#!cp -r /mydrive/yolov4/test/ ../\n",
        "\n",
        "\n",
        "ims = os.listdir(\"../test\") #insertar la ruta donde se encuentra la carpeta de las imagenes a las que se desea procesar\n",
        "\n",
        "for i in ims:\n",
        "  im = os.path.join(\"/content/test/\", i) #Cambiar ruta a la ruta de la carpeta de imágenes\n",
        "\n",
        "  # Primera ruta debe ser referencia a donde se encuetra el archivo .weights que correrá las inferencias\n",
        "\n",
        "  !./darknet detector test data/obj.data cfg/yolov4-obj.cfg /mydrive/yolov4/backup/yolov4-obj_last.weights $im -thresh 0.5\n",
        "  imShow('predictions.jpg')"
      ],
      "execution_count": null,
      "outputs": []
    }
  ]
}