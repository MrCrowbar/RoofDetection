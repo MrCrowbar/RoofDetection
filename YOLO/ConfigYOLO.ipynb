{
  "nbformat": 4,
  "nbformat_minor": 0,
  "metadata": {
    "colab": {
      "name": "ConfigYOLO.ipynb",
      "provenance": []
    },
    "kernelspec": {
      "name": "python3",
      "display_name": "Python 3"
    }
  },
  "cells": [
    {
      "cell_type": "code",
      "metadata": {
        "id": "VmeZV5c5A5UY"
      },
      "source": [
        "# clonar repositorio de darknet\n",
        "!git clone https://github.com/AlexeyAB/darknet"
      ],
      "execution_count": null,
      "outputs": []
    },
    {
      "cell_type": "code",
      "metadata": {
        "id": "gCf_dbrzBiCJ"
      },
      "source": [
        "# modificar el makefile para garantizar que opencv y el gpu estén activos\n",
        "%cd darknet\n",
        "!sed -i 's/OPENCV=0/OPENCV=1/' Makefile\n",
        "!sed -i 's/GPU=0/GPU=1/' Makefile\n",
        "!sed -i 's/CUDNN=0/CUDNN=1/' Makefile\n",
        "!sed -i 's/CUDNN_HALF=0/CUDNN_HALF=1/' Makefile"
      ],
      "execution_count": null,
      "outputs": []
    },
    {
      "cell_type": "code",
      "metadata": {
        "id": "KHu0YqY-BkB1"
      },
      "source": [
        "# verificar versión de cuda\n",
        "!/usr/local/cuda/bin/nvcc --version"
      ],
      "execution_count": null,
      "outputs": []
    },
    {
      "cell_type": "code",
      "metadata": {
        "id": "-VXvwm1EBl9I"
      },
      "source": [
        "# construcción de darknet\n",
        "!make"
      ],
      "execution_count": null,
      "outputs": []
    },
    {
      "cell_type": "code",
      "metadata": {
        "id": "cIySA3lXBp6X"
      },
      "source": [
        "# pesos para primeros entrenamientos \n",
        "!wget https://github.com/AlexeyAB/darknet/releases/download/darknet_yolo_v3_optimal/yolov4.weights"
      ],
      "execution_count": null,
      "outputs": []
    },
    {
      "cell_type": "code",
      "metadata": {
        "id": "CG_3peOZBtIu"
      },
      "source": [
        "# función auxiliar de impresión de imagen\n",
        "def imShow(path):\n",
        "  import cv2\n",
        "  import matplotlib.pyplot as plt\n",
        "  %matplotlib inline\n",
        "\n",
        "  image = cv2.imread(path)\n",
        "  height, width = image.shape[:2]\n",
        "  resized_image = cv2.resize(image,(3*width, 3*height), interpolation = cv2.INTER_CUBIC)\n",
        "\n",
        "  fig = plt.gcf()\n",
        "  fig.set_size_inches(18, 10)\n",
        "  plt.axis(\"off\")\n",
        "  plt.imshow(cv2.cvtColor(resized_image, cv2.COLOR_BGR2RGB))\n",
        "  plt.show()"
      ],
      "execution_count": null,
      "outputs": []
    },
    {
      "cell_type": "code",
      "metadata": {
        "id": "8KIBXNTEgqg2"
      },
      "source": [
        "'''\n",
        "Para entrenar un modelo:\n",
        "  La carpeta con imágenes de entrenamiento deberán de estar dentro de 'darknet/data/'\n",
        "  El archivo que genera el txt para entrenar el modelo 'generate_train.py' debe estar dentro del directorio 'darknet/'\n",
        "Funcionamiento general:\n",
        "  El archivo con la configuración 'yolov4-obj.cfg' debe de estar dentro de 'darknet/cfg'\n",
        "  Los archivos con la información de las clases 'obj.data' y 'obj.names' deben de estar dentro de 'darknet/data/'\n",
        "  El archivo que genera el txt para probar y hacer inferencias el modelo 'generate_test.py' debe estar dentro del directorio 'darknet/'\n",
        "'''"
      ],
      "execution_count": null,
      "outputs": []
    }
  ]
}